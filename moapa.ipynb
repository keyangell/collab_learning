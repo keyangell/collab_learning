{
  "nbformat": 4,
  "nbformat_minor": 0,
  "metadata": {
    "colab": {
      "provenance": [],
      "authorship_tag": "ABX9TyPBXOjnGC2cCqwbRfihG6gC",
      "include_colab_link": true
    },
    "kernelspec": {
      "name": "python3",
      "display_name": "Python 3"
    },
    "language_info": {
      "name": "python"
    }
  },
  "cells": [
    {
      "cell_type": "markdown",
      "metadata": {
        "id": "view-in-github",
        "colab_type": "text"
      },
      "source": [
        "<a href=\"https://colab.research.google.com/github/keyangell/collab_learning/blob/main/moapa.ipynb\" target=\"_parent\"><img src=\"https://colab.research.google.com/assets/colab-badge.svg\" alt=\"Open In Colab\"/></a>"
      ]
    },
    {
      "cell_type": "code",
      "execution_count": 1,
      "metadata": {
        "colab": {
          "base_uri": "https://localhost:8080/"
        },
        "id": "dMFiJjjucM1y",
        "outputId": "75c7a031-65e3-447d-f1ad-fe0ae5687c18"
      },
      "outputs": [
        {
          "output_type": "stream",
          "name": "stdout",
          "text": [
            "hello worlds\n"
          ]
        }
      ],
      "source": [
        "print('hello worlds')"
      ]
    },
    {
      "cell_type": "code",
      "source": [
        "print('howdy howareyou')"
      ],
      "metadata": {
        "colab": {
          "base_uri": "https://localhost:8080/"
        },
        "id": "6zy9o79adTH0",
        "outputId": "bca42dfb-430c-4598-bae7-d46f62598600"
      },
      "execution_count": 2,
      "outputs": [
        {
          "output_type": "stream",
          "name": "stdout",
          "text": [
            "howdy howareyou\n"
          ]
        }
      ]
    },
    {
      "cell_type": "code",
      "source": [
        "angka=[1,2,3,4,5,6,7,8,9]\n",
        "print(angka)\n",
        "print(angka[6])\n",
        "nama=['kei','elgna','chrity']"
      ],
      "metadata": {
        "colab": {
          "base_uri": "https://localhost:8080/"
        },
        "id": "s5T5vd7geapA",
        "outputId": "d628b4df-825c-4e38-a604-2f687cd6c819"
      },
      "execution_count": 14,
      "outputs": [
        {
          "output_type": "stream",
          "name": "stdout",
          "text": [
            "[1, 2, 3, 4, 5, 6, 7, 8, 9]\n",
            "7\n"
          ]
        }
      ]
    }
  ]
}